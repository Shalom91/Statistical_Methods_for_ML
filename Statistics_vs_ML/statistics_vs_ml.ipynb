{
 "metadata": {
  "language_info": {
   "codemirror_mode": {
    "name": "ipython",
    "version": 3
   },
   "file_extension": ".py",
   "mimetype": "text/x-python",
   "name": "python",
   "nbconvert_exporter": "python",
   "pygments_lexer": "ipython3",
   "version": "3.7.7-final"
  },
  "orig_nbformat": 2,
  "kernelspec": {
   "name": "python3",
   "display_name": "Python 3",
   "language": "python"
  }
 },
 "nbformat": 4,
 "nbformat_minor": 2,
 "cells": [
  {
   "source": [
    "# STATISTICS vs MACHINE LEARNING: CHAPTER 2"
   ],
   "cell_type": "markdown",
   "metadata": {}
  },
  {
   "source": [
    "## Machine Learning\n",
    "- Machine learning is a subfield of artificial intelligence and is related to the broader field of\n",
    "computer science.\n",
    "\n",
    "- The field of machine learning is concerned with the question of how to construct\n",
    "computer programs that automatically improve with experience\n",
    "\n",
    "- It just so happens that some of these learning programs\n",
    "are useful for predictive modeling problems, and some in fact have been borrowed from other\n",
    "fields, such as statistics."
   ],
   "cell_type": "markdown",
   "metadata": {}
  },
  {
   "source": [
    "### Machine learning and predictive modeling are a computer science perspective on modeling data with a focus on algorithmic methods and model skill."
   ],
   "cell_type": "markdown",
   "metadata": {}
  },
  {
   "source": [
    "##  Statistical Learning\n",
    " - Statistical learning refers to a set of tools for modeling and understanding complex\n",
    "datasets.\n",
    "\n",
    "- It may be the statistics equivalent of predictive modeling\n",
    "where model skill is important, but perhaps a stronger emphasis is given to careful selection\n",
    "and introduction of the learning models."
   ],
   "cell_type": "markdown",
   "metadata": {}
  },
  {
   "source": [
    "## Terminology Used in Statistics and ML"
   ],
   "cell_type": "markdown",
   "metadata": {}
  },
  {
   "source": [
    "### Machine Learning       |         Statistics\n",
    "- network, graphs          |          model\n",
    "- weights                  |          parameters\n",
    "- learning                 |          fitting\n",
    "- generalisation           |      test set performance\n",
    "- supervised learning      | regression/classification\n",
    "- unsupervised learning    | density estimation/clustering      "
   ],
   "cell_type": "markdown",
   "metadata": {}
  },
  {
   "source": [
    "### Statistics and statistical learning are a mathematical perspective on modeling data with a focus on data models and on goodness of fit."
   ],
   "cell_type": "markdown",
   "metadata": {}
  }
 ]
}