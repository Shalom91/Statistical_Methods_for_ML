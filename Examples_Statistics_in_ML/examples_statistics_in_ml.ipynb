{
 "metadata": {
  "language_info": {
   "codemirror_mode": {
    "name": "ipython",
    "version": 3
   },
   "file_extension": ".py",
   "mimetype": "text/x-python",
   "name": "python",
   "nbconvert_exporter": "python",
   "pygments_lexer": "ipython3",
   "version": "3.7.7-final"
  },
  "orig_nbformat": 2,
  "kernelspec": {
   "name": "python3",
   "display_name": "Python 3",
   "language": "python"
  }
 },
 "nbformat": 4,
 "nbformat_minor": 2,
 "cells": [
  {
   "source": [
    "# EXAMPLES OF STATISTICS IN MACHINE LEARNING: CHAPTER 3"
   ],
   "cell_type": "markdown",
   "metadata": {}
  },
  {
   "source": [
    "## I) Exploratory data analysis, data summarization, and data visualizations can be used to help frame       your predictive modeling problem and better understand the data."
   ],
   "cell_type": "markdown",
   "metadata": {}
  },
  {
   "source": [
    "### 1. Problem Framing\n",
    "- This is the selection of the type of problem, e.g. regression or classification, and\n",
    "perhaps the structure and types of the inputs and outputs for the problem.\n",
    "\n",
    "- Statistical methods\n",
    "that can aid in the exploration of the data during the framing of a problem include:"
   ],
   "cell_type": "markdown",
   "metadata": {}
  },
  {
   "source": [
    "#### a. Explaratory Data Analysis\n",
    "- Summarization and visualization in order to explore ad\n",
    "hoc views of the data.\n",
    "\n",
    "#### b. Data Mining\n",
    "- Automatic discovery of structured relationships and patterns in the data.\n"
   ],
   "cell_type": "markdown",
   "metadata": {}
  },
  {
   "source": [
    "### 2. Data Understanding\n",
    "- Data understanding means having an intimate grasp of both the distributions of variables and\n",
    "the relationships between variables.\n",
    "\n",
    "-  Two large\n",
    "branches of statistical methods are used to aid in understanding data; they are:"
   ],
   "cell_type": "markdown",
   "metadata": {}
  },
  {
   "source": [
    "#### a. Summary Statistics\n",
    "- Methods used to summarize the distribution and relationships\n",
    "between variables using statistical quantities.\n",
    "\n",
    "#### b. Data Visualization\n",
    "- Methods used to summarize the distribution and relationships\n",
    "between variables using visualizations such as charts, plots, and graphs."
   ],
   "cell_type": "markdown",
   "metadata": {}
  },
  {
   "source": [
    "## II) Statistical methods can be used to clean and prepare data ready for modeling."
   ],
   "cell_type": "markdown",
   "metadata": {}
  },
  {
   "source": [
    "### 3. Data Cleaning\n",
    "- Although the data is digital, it may be\n",
    "subjected to processes that can damage the fidelity of the data, and in turn any downstream\n",
    "processes or models that make use of the data. Some examples include:\n",
    "\n",
    "        - Data corruption\n",
    "\n",
    "        - Data errors\n",
    "    \n",
    "        - Data loss\n",
    "\n",
    "- Statistical\n",
    "methods are used for data cleaning; for example:"
   ],
   "cell_type": "markdown",
   "metadata": {}
  },
  {
   "source": [
    "#### a. Outlier detection\n",
    "- Methods for identifying observations that are far from the expected\n",
    "value in a distribution.\n",
    "\n",
    "#### b. Imputation\n",
    "- Methods for repairing or filling in corrupt or missing values in observations."
   ],
   "cell_type": "markdown",
   "metadata": {}
  },
  {
   "source": [
    "### 4. Data Selection\n",
    "- The process of reducing\n",
    "the scope of data to those elements that are most useful for making predictions is called data\n",
    "selection. Two types of statistical methods that are used for data selection include:"
   ],
   "cell_type": "markdown",
   "metadata": {}
  },
  {
   "source": [
    "#### a. Data Sample\n",
    "- Methods to systematically create smaller representative samples from\n",
    "larger datasets.\n",
    "\n",
    "#### b. Feature Selection\n",
    "- Methods to automatically identify those variables that are most\n",
    "relevant to the outcome variable."
   ],
   "cell_type": "markdown",
   "metadata": {}
  },
  {
   "source": [
    "### 5. Data Preparation\n",
    "- Some transformation is often required in\n",
    "order to change the shape or structure of the data to make it more suitable for the chosen\n",
    "framing of the problem or learning algorithms. \n",
    "\n",
    "- Data preparation is performed using statistical\n",
    "methods. Some common examples include:"
   ],
   "cell_type": "markdown",
   "metadata": {}
  },
  {
   "source": [
    "#### a. Scaling\n",
    "- Methods such as standardization and normalization.\n",
    "\n",
    "#### b. Encoding\n",
    "- Methods such as integer encoding and one hot encoding\n",
    "\n",
    "#### c. Transforms\n",
    "- Methods such as power transforms like the Box-Cox method."
   ],
   "cell_type": "markdown",
   "metadata": {}
  },
  {
   "source": [
    "## III) Statistical hypothesis tests and estimation statistics can aid in model selection and in presenting the skill and predictions from final models."
   ],
   "cell_type": "markdown",
   "metadata": {}
  },
  {
   "source": [
    "### 6. Model Evaluation\n",
    "- This often\n",
    "requires the estimation of the skill of the model when making predictions on data not seen during\n",
    "the training of the model."
   ],
   "cell_type": "markdown",
   "metadata": {}
  },
  {
   "source": [
    "#### a. Experimental Design\n",
    "- Methods to design systematic experiments to compare the effect\n",
    "of independent variables on an outcome, such as the choice of a machine learning algorithm\n",
    "on prediction accuracy.\n",
    "\n",
    "#### b. Resampling Methods\n",
    "- Methods for systematically splitting a dataset into subsets for\n",
    "the purposes of training and evaluating a predictive model."
   ],
   "cell_type": "markdown",
   "metadata": {}
  },
  {
   "source": [
    "### 7. Model Configuration\n",
    "- The interpretation\n",
    "and comparison of the results between different hyperparameter configurations is made using\n",
    "one of two subfields of statistics, namely:"
   ],
   "cell_type": "markdown",
   "metadata": {}
  },
  {
   "source": [
    "#### a. Statistical Hypothesis Tests\n",
    "- Methods that quantify the likelihood of observing the\n",
    "result given an assumption or expectation about the result (presented using critical values\n",
    "and p-values).\n",
    "\n",
    "#### b. Estimation Statistics\n",
    "- Methods that quantify the uncertainty of a result using confidence\n",
    "intervals."
   ],
   "cell_type": "markdown",
   "metadata": {}
  },
  {
   "source": [
    "### 8. Model Selection\n",
    "- As with model\n",
    "configuration, two classes of statistical methods can be used to interpret the estimated skill of\n",
    "different models for the purposes of model selection. They are:"
   ],
   "cell_type": "markdown",
   "metadata": {}
  },
  {
   "source": [
    "#### a. Statistical Hypothesis Tests\n",
    "- Methods that quantify the likelihood of observing the\n",
    "result given an assumption or expectation about the result (presented using critical values\n",
    "and p-values).\n",
    "\n",
    "#### b. Estimation Statistics\n",
    "- Methods that quantify the uncertainty of a result using confidence\n",
    "intervals."
   ],
   "cell_type": "markdown",
   "metadata": {}
  },
  {
   "source": [
    "### 9. Model Presentation\n",
    "- A part of presenting a final model involves\n",
    "presenting the estimated skill of the model. \n",
    "\n",
    "- Methods from the field of estimation statistics can\n",
    "be used to quantify the uncertainty in the estimated skill of the machine learning model through\n",
    "the use of tolerance intervals and confidence intervals."
   ],
   "cell_type": "markdown",
   "metadata": {}
  },
  {
   "source": [
    "#### a. Estimation Statistics\n",
    "- Methods that quantify the uncertainty of a result using confidence\n",
    "intervals."
   ],
   "cell_type": "markdown",
   "metadata": {}
  },
  {
   "source": [
    "### 10. Model Predictions\n",
    "-  As part of making predictions, it is important to quantify\n",
    "the confidence of the prediction. \n",
    "\n",
    "- Just like with the process of model presentation, we can use\n",
    "methods from the field of estimation statistics to quantify this uncertainty, such as confidence\n",
    "intervals and prediction intervals."
   ],
   "cell_type": "markdown",
   "metadata": {}
  },
  {
   "source": [
    "#### a. Estimation Statistics\n",
    "- Methods that quantify the uncertainty of a result using confidence\n",
    "intervals."
   ],
   "cell_type": "markdown",
   "metadata": {}
  }
 ]
}