{
 "metadata": {
  "language_info": {
   "codemirror_mode": {
    "name": "ipython",
    "version": 3
   },
   "file_extension": ".py",
   "mimetype": "text/x-python",
   "name": "python",
   "nbconvert_exporter": "python",
   "pygments_lexer": "ipython3",
   "version": "3.7.7-final"
  },
  "orig_nbformat": 2,
  "kernelspec": {
   "name": "python3",
   "display_name": "Python 3",
   "language": "python"
  }
 },
 "nbformat": 4,
 "nbformat_minor": 2,
 "cells": [
  {
   "source": [
    "# GAUSSIAN AND SUMMARY STATS: CHAPTER 4"
   ],
   "cell_type": "markdown",
   "metadata": {}
  },
  {
   "source": [
    "## 1. Gaussian Distribution"
   ],
   "cell_type": "markdown",
   "metadata": {}
  },
  {
   "source": [
    "- A distribution of data refers to the shape it has when you graph it, such as with a histogram.\n",
    "\n",
    "- The most commonly seen and therefore well-known distribution of continuous values is the bell\n",
    "curve. \n",
    "\n",
    "- It is known as the normal distribution, because it the distribution that a lot of data falls\n",
    "into."
   ],
   "cell_type": "markdown",
   "metadata": {}
  },
  {
   "source": [
    "**Not all data is Gaussian, and it is sometimes important to\n",
    "make this discovery either by reviewing histogram plots of the data or using statistical tests to\n",
    "check.**\n",
    "\n",
    "- Some examples of observations that do not fit a Gaussian distribution and instead may\n",
    "fit an exponential (hockey-stick shape) include:\n",
    "\n",
    "        - Peoples's income\n",
    "\n",
    "        - Population of cities\n",
    "        \n",
    "        - Sales of books\n",
    "\n",
    "**A uniform distribution is another common distribution, often seen when each item or value\n",
    "has an equal value for being selected. The shape of a graph of the uniform distribution is a flat\n",
    "line**"
   ],
   "cell_type": "markdown",
   "metadata": {}
  },
  {
   "source": [
    "## 2. Sample vs Population\n",
    "\n"
   ],
   "cell_type": "markdown",
   "metadata": {}
  },
  {
   "source": [
    "**Two examples of data samples that you will encounter in machine learning include:**\n",
    "\n",
    "- the train and test dataset\n",
    "\n",
    "- the performance scores for a model"
   ],
   "cell_type": "markdown",
   "metadata": {}
  },
  {
   "source": [
    "## 3. Central Tendency"
   ],
   "cell_type": "markdown",
   "metadata": {}
  },
  {
   "source": [
    "### The mean"
   ],
   "cell_type": "markdown",
   "metadata": {}
  },
  {
   "source": [
    "- The central tendency of a distribution refers to the middle or typical value in the distribution.\n",
    "\n",
    "- In the Gaussian distribution, the central tendency is\n",
    "called the mean, or more formally, the arithmetic mean, and is one of the two main parameters\n",
    "that defines any Gaussian distribution."
   ],
   "cell_type": "markdown",
   "metadata": {}
  },
  {
   "source": [
    "- The mean is easily influenced by outlier values, that is, rare values far from the mean.\n",
    "\n",
    "- These may be legitimately rare observations on the edge of the distribution or errors. Further,\n",
    "the mean may be misleading."
   ],
   "cell_type": "markdown",
   "metadata": {}
  },
  {
   "source": [
    "### The median"
   ],
   "cell_type": "markdown",
   "metadata": {}
  },
  {
   "source": [
    "- In the case of outliers or a non-Gaussian distribution, an alternate and commonly used\n",
    "central tendency to calculate is the median.\n",
    "\n",
    "- If the data had a different (non-Gaussian) distribution, the median may be very different from\n",
    "the mean and perhaps a better reflection of the central tendency of the underlying population."
   ],
   "cell_type": "markdown",
   "metadata": {}
  },
  {
   "source": [
    "## 4. Variance\n",
    "\n",
    "- The variance of a distribution refers to how much on average that observations vary or differ\n",
    "from the mean value. It is useful to think of the variance as a measure of the spread of a\n",
    "distribution. \n",
    "\n",
    "- A low variance will have values grouped around the mean (e.g. a narrow bell\n",
    "shape), whereas a high variance will have values spread out from the mean (e.g. a wide bell\n",
    "shape.)"
   ],
   "cell_type": "markdown",
   "metadata": {}
  },
  {
   "source": [
    "### The standard deviation\n",
    "\n",
    "- It is hard to interpret the variance because the units are the squared units of the observations.\n",
    "We can return the units to the original units of the observations by taking the square root of\n",
    "the result.\n",
    "\n",
    "- This\n",
    "is called the standard deviation. The standard deviation, along with the mean, are the two key\n",
    "parameters required to specify any Gaussian distribution."
   ],
   "cell_type": "markdown",
   "metadata": {}
  },
  {
   "source": [
    "**Measures of variance can be calculated for non-Gaussian distributions, but generally require\n",
    "the distribution to be identified so that a specialized measure of variance specific to that\n",
    "distribution can be calculated.**"
   ],
   "cell_type": "markdown",
   "metadata": {}
  },
  {
   "source": [
    "## 5. Describing a Guassian"
   ],
   "cell_type": "markdown",
   "metadata": {}
  },
  {
   "source": [
    "- When reporting model skill, you are in effect summarizing the distribution of skill scores, and\n",
    "very likely the skill scores will be drawn from a Gaussian distribution.\n",
    "\n",
    "- As a minimum I would\n",
    "recommend reporting the two parameters of the Gaussian distribution of model scores and the\n",
    "size of the sample. \n",
    "\n",
    "- Ideally, it would also be a good idea to confirm that indeed the model skill\n",
    "scores are Gaussian or look Gaussian enough to defend reporting the parameters of the Gaussian\n",
    "distribution. \n",
    "\n",
    "- This is important because the distribution of skill scores can be reconstructed by\n",
    "readers and potentially compared to the skill of models on the same problem in the future"
   ],
   "cell_type": "markdown",
   "metadata": {}
  }
 ]
}