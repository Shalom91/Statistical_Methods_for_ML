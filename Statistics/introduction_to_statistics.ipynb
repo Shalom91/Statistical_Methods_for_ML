{
 "metadata": {
  "language_info": {
   "codemirror_mode": {
    "name": "ipython",
    "version": 3
   },
   "file_extension": ".py",
   "mimetype": "text/x-python",
   "name": "python",
   "nbconvert_exporter": "python",
   "pygments_lexer": "ipython3",
   "version": "3.7.7-final"
  },
  "orig_nbformat": 2,
  "kernelspec": {
   "name": "python3",
   "display_name": "Python 3",
   "language": "python"
  }
 },
 "nbformat": 4,
 "nbformat_minor": 2,
 "cells": [
  {
   "source": [
    "# INTRODUCTION TO STATISTICS : CHAPTER 1"
   ],
   "cell_type": "markdown",
   "metadata": {}
  },
  {
   "source": [
    "## What is Statistics?\n",
    "- Statistics is a collection of tools developed over hundreds of years for summarizing data\n",
    "and quantifying properties of a domain given a sample of observations"
   ],
   "cell_type": "markdown",
   "metadata": {}
  },
  {
   "source": [
    "### Descriptive Statistics\n",
    "- Descriptive statistics refer to methods for summarizing raw observations into information that\n",
    "we can understand and share."
   ],
   "cell_type": "markdown",
   "metadata": {}
  },
  {
   "source": [
    "### Inferential Statistics\n",
    " - Methods that aid in quantifying properties of the domain\n",
    "or population from a smaller set of obtained observations called a sample"
   ],
   "cell_type": "markdown",
   "metadata": {}
  },
  {
   "source": [
    "## Why Learn Statistics\n",
    "\n",
    "- We need Statistics to transform observations into information and answer questions about sample observations."
   ],
   "cell_type": "markdown",
   "metadata": {}
  },
  {
   "source": [
    "### Raw data raises questions such as :\n",
    " - What is the most common or expected observation?\n",
    "\n",
    " - What are the limits on the observation?\n",
    "\n",
    " - What does the data look like?\n",
    "### The questions must be answered in order to turn raw observations into information."
   ],
   "cell_type": "markdown",
   "metadata": {}
  },
  {
   "source": [
    "### Beyond raw data, we may design experiments in order to collect observations. From these experimental results we may have more sophisticated questions, such as:\n",
    " - What variables are most relevant?\n",
    "\n",
    " - What is the difference in an outcome between two experiments?\n",
    "\n",
    " - Are the differences real or the result of noise in the data?"
   ],
   "cell_type": "markdown",
   "metadata": {}
  }
 ]
}